{
 "cells": [
  {
   "cell_type": "code",
   "execution_count": 1,
   "id": "6a7a8b4f-3050-42fd-a855-570705e87f45",
   "metadata": {},
   "outputs": [],
   "source": [
    "import os\n",
    "os.environ[\"CUDA_VISIBLE_DEVICES\"]=\"0\"\n",
    "#Use \"-1\" for CPU-only devices\n",
    "\n",
    "#If working on GPU enviroment\n",
    "os.environ['TF_FORCE_GPU_ALLOW_GROWTH'] = 'true'\n",
    "#Limit the memory allocated by tensorflow to only the necessary amount\n",
    "\n",
    "os.environ['TF_CPP_MIN_LOG_LEVEL'] = '2'\n",
    "os.environ['PYTHONHASHSEED'] = '2'"
   ]
  },
  {
   "cell_type": "code",
   "execution_count": 2,
   "id": "2d522762-8745-47a5-9415-f3c9a6314e8f",
   "metadata": {},
   "outputs": [
    {
     "name": "stderr",
     "output_type": "stream",
     "text": [
      "/usr/lib/python3.11/site-packages/h5py/__init__.py:36: UserWarning: h5py is running against HDF5 1.14.1 when it was built against 1.14.0, this may cause problems\n",
      "  _warn((\"h5py is running against HDF5 {0} when it was built against {1}, \"\n"
     ]
    },
    {
     "name": "stdout",
     "output_type": "stream",
     "text": [
      "All packages are using the targeted versions.\n"
     ]
    }
   ],
   "source": [
    "import numpy as np\n",
    "from numpy.random import seed\n",
    "seed(18)\n",
    "\n",
    "import tensorflow as tf\n",
    "from tensorflow.keras.models import load_model\n",
    "from tensorflow.random import set_seed\n",
    "from tensorflow.keras.utils import set_random_seed\n",
    "set_seed(18)\n",
    "set_random_seed(18)\n",
    "\n",
    "import keras\n",
    "\n",
    "import matplotlib.pyplot as plt\n",
    "\n",
    "from Supporting_func_file import *\n",
    "\n",
    "Version_check()"
   ]
  },
  {
   "cell_type": "markdown",
   "id": "aa491888-03b7-4f6a-85d8-6f8ca26dd56d",
   "metadata": {},
   "source": [
    "## Preparing the data\n",
    "#### Loading the 30,000 measured samples"
   ]
  },
  {
   "cell_type": "code",
   "execution_count": 3,
   "id": "458906c1-6201-49ff-9caf-3951e41e9105",
   "metadata": {},
   "outputs": [
    {
     "name": "stdout",
     "output_type": "stream",
     "text": [
      "Shapes\n",
      "Count distribution of 7 detectors:            (30000, 7)\n",
      "Corresponding coherence matrices:             (30000, 2, 2)\n"
     ]
    }
   ],
   "source": [
    "file_path = \"Data_sets/Performance_evaluation/Performance_evaluation_50_ms_data.npz\"\n",
    "\n",
    "fiber_bundle_counts, input_states_rho = Load_data_file(file_path)\n",
    "\n",
    "print(\"Shapes\")\n",
    "print(\"Count distribution of 7 detectors:           \", fiber_bundle_counts.shape)\n",
    "print(\"Corresponding coherence matrices:            \", input_states_rho.shape)"
   ]
  },
  {
   "cell_type": "markdown",
   "id": "65036223-c9a1-44f4-884b-460c27687116",
   "metadata": {},
   "source": [
    "#### Generating the mixed state samples"
   ]
  },
  {
   "cell_type": "code",
   "execution_count": 4,
   "id": "83951f4d-7fdb-40d9-8965-0cdd553e4465",
   "metadata": {},
   "outputs": [],
   "source": [
    "number_of_repetitions = 20\n",
    "#The created dataset will consists of (number_of_repetitions * 30000) generated mixed data covering the whole Bloch sphere\n",
    "\n",
    "radial_positions = Radius_dist((number_of_repetitions, input_states_rho.shape[0]))\n",
    "#Supporting variable for generating mixed states\n",
    "\n",
    "data_rhos, data_counts = Generate_mixed_dataset(input_states_rho, fiber_bundle_counts, radial_positions)\n",
    "#Dataset of coherence matrices (data_rhos) with corresponding count distributions (data_counts) generated from the 30,000 measured samples"
   ]
  },
  {
   "cell_type": "markdown",
   "id": "ca2cecd2-9389-4b7f-98a7-c0f78c36e3a8",
   "metadata": {},
   "source": [
    "#### Pre-processing the data for the neural network"
   ]
  },
  {
   "cell_type": "code",
   "execution_count": 5,
   "id": "4a2d5673-5b62-4a08-99c6-9b09ba0fd320",
   "metadata": {},
   "outputs": [
    {
     "name": "stdout",
     "output_type": "stream",
     "text": [
      "First coherency matrix:\n",
      "[[0.497+0.j   0.303-0.31j]\n",
      " [0.303+0.31j 0.503-0.j  ]]\n",
      "\n",
      "Its Cholesky decomposition in the form of a triangular matrix, Tau:\n",
      "[[0.705+0.j    0.   +0.j   ]\n",
      " [0.43 +0.439j 0.354+0.j   ]]\n",
      "\n",
      "The 4 real-valued elements of the Cholesky decomposition, Flat:\n",
      "[0.705 0.43  0.439 0.354]\n"
     ]
    }
   ],
   "source": [
    "data_in = Probability_norm(data_counts)\n",
    "#Network inputs are the count distributions of the polarization state normed to represent the relative frequencies of the 7 detection channels. I.e., for first polarization state, sum(data_in[0,:7]) = 1.\n",
    "\n",
    "data_out = Tau_to_Flat(np.linalg.cholesky(data_rhos))\n",
    "#Network outputs is the \"Tau\" Cholesky decomposition (in a NN-friendly version \"Flat\") of the coherence matrix Rho.\n",
    "\n",
    "#Example to explain the data form\n",
    "print(\"First coherency matrix:\")\n",
    "print(data_rhos[0].round(3))\n",
    "print(\"\")\n",
    "print(\"Its Cholesky decomposition in the form of a triangular matrix, Tau:\")\n",
    "print(np.linalg.cholesky(data_rhos[0]).round(3))\n",
    "print(\"\")\n",
    "print(\"The 4 real-valued elements of the Cholesky decomposition, Flat:\")\n",
    "print(data_out[0].round(3))"
   ]
  },
  {
   "cell_type": "code",
   "execution_count": 6,
   "id": "515a4c2f-e278-4de9-aa62-ce42f9240eb4",
   "metadata": {},
   "outputs": [],
   "source": [
    "#Randomly shuffling the dataset. Keeping the position relevance. I.e., data_in[i] corresponds to data_out[i] after shuffle.\n",
    "seed(18)\n",
    "np.random.shuffle(data_in)\n",
    "seed(18)\n",
    "np.random.shuffle(data_out)"
   ]
  },
  {
   "cell_type": "code",
   "execution_count": 7,
   "id": "9e6253ff-c437-4aba-adf3-b95eb1291b29",
   "metadata": {},
   "outputs": [
    {
     "name": "stdout",
     "output_type": "stream",
     "text": [
      "Number of test data:       (96000, 7)\n"
     ]
    }
   ],
   "source": [
    "#Separating the dataset into training, validation, and test set\n",
    "first_borderline = (number_of_repetitions+1) * 16000\n",
    "second_borderline = (number_of_repetitions+1) * 24000\n",
    "\n",
    "#train_in = data_in[:first_borderline]\n",
    "#train_out = data_out[:first_borderline]\n",
    "#Training set was used to train the network\n",
    "\n",
    "#val_in = data_in[first_borderline:second_borderline]\n",
    "#val_out = data_out[first_borderline:second_borderline]\n",
    "#Validation set was used to optimize the network\n",
    "\n",
    "test_in = data_in[second_borderline:]\n",
    "test_out = data_out[second_borderline:]\n",
    "#Test set is used now to evaluate the performance\n",
    "\n",
    "#print(\"Number of training data:  \", train_in.shape)\n",
    "#print(\"Number of validation data:\", val_in.shape)\n",
    "print(\"Number of test data:      \", test_in.shape)"
   ]
  },
  {
   "cell_type": "markdown",
   "id": "1bc381f5-1bd0-42e0-a9e2-90cd13c697f5",
   "metadata": {},
   "source": [
    "## Evaluating models\n",
    "\n",
    "We randomly generated combinations of channel subsets for each number of active channels in the 'Number of detection channels' graph. <br>\n",
    "Each subset was used to train a neural network, which was saved after training and is stored in \"Trained_models/Number_of_channels\" folder."
   ]
  },
  {
   "cell_type": "code",
   "execution_count": 8,
   "id": "efdd5c2d-6053-4e24-aae0-cb218d5678f1",
   "metadata": {
    "scrolled": true
   },
   "outputs": [
    {
     "data": {
      "text/plain": [
       "[[0, 1, 2, 3, 4, 5, 6],\n",
       " [0, 1, 2, 3, 4, 5],\n",
       " [0, 1, 2, 3, 5, 6],\n",
       " [0, 1, 2, 4, 5, 6],\n",
       " [0, 1, 3, 4, 5, 6],\n",
       " [0, 2, 3, 4, 5, 6],\n",
       " [0, 1, 2, 3, 5],\n",
       " [0, 1, 2, 4, 5],\n",
       " [0, 1, 2, 4, 6],\n",
       " [0, 2, 3, 4, 6],\n",
       " [1, 3, 4, 5, 6],\n",
       " [0, 2, 3, 4],\n",
       " [1, 2, 3, 4],\n",
       " [1, 2, 4, 5],\n",
       " [2, 3, 4, 5],\n",
       " [2, 4, 5, 6],\n",
       " [0, 2, 6],\n",
       " [1, 2, 3],\n",
       " [1, 2, 4],\n",
       " [1, 3, 5],\n",
       " [3, 5, 6],\n",
       " [0, 3],\n",
       " [1, 5],\n",
       " [2, 4],\n",
       " [3, 6],\n",
       " [4, 6]]"
      ]
     },
     "execution_count": 8,
     "metadata": {},
     "output_type": "execute_result"
    }
   ],
   "source": [
    "used_channel_combinations = np.load(\"Used_channel_combinations.npy\", allow_pickle=True)\n",
    "used_channel_combinations.tolist()"
   ]
  },
  {
   "cell_type": "markdown",
   "id": "73217afb-3048-4e9a-81ff-e4e7cbd47d46",
   "metadata": {},
   "source": [
    "For example, the third row [0, 1, 2, 3, 5, 6] contains all number from 0 to 6 except for 4. That means, that this particular combination uses six out of seven channels, not using the channel on position 4. <br>\n",
    "In the similar fashion, [1, 2, 3] uses three out of seven channels, leaving [0,4,5,6] inactive."
   ]
  },
  {
   "cell_type": "code",
   "execution_count": 9,
   "id": "7126ec0c-3e02-4400-8495-e1e638e77ab7",
   "metadata": {},
   "outputs": [],
   "source": [
    "def Evaluate_particular_model(current_channel_comb_):\n",
    "    current_model = load_model(\"Trained_models/Number_of_Channels/Channels_dependency_\" + str(current_channel_comb_) + \"_channels.h5\", \n",
    "                               custom_objects={\"fidelity_metric\": fidelity_metric})\n",
    "    \n",
    "    current_test_in_subset = Probability_norm(test_in[:, current_channel_comb_])            #Restricting the test set to the current channel subset combination used by the network\n",
    "    \n",
    "    pred_test_rho = Flat_to_Density(current_model.predict(current_test_in_subset))          #Predicted polarization states in the form of coherence matrices\n",
    "    true_test_rho = Flat_to_Density(test_out)                                               #The targeted coherence matrices\n",
    "    \n",
    "    test_fidelity_array = Fidelity(true_test_rho, pred_test_rho)\n",
    "    #The fidelities between predicted and targeted coherence matrices\n",
    "    \n",
    "    return test_fidelity_array"
   ]
  },
  {
   "cell_type": "markdown",
   "id": "1e79123c-7dcc-4e09-b792-b81caee749a4",
   "metadata": {},
   "source": [
    "Evaluate each network and store their fidelities of test set predictions."
   ]
  },
  {
   "cell_type": "code",
   "execution_count": 10,
   "id": "eb7c9c1c-da4f-43c0-9539-915c79088d2a",
   "metadata": {
    "scrolled": true
   },
   "outputs": [
    {
     "name": "stdout",
     "output_type": "stream",
     "text": [
      "Network 1 out of 26\n",
      "3000/3000 [==============================] - 5s 1ms/step\n",
      "Network 2 out of 26\n",
      "3000/3000 [==============================] - 2s 721us/step\n",
      "Network 3 out of 26\n",
      "3000/3000 [==============================] - 2s 770us/step\n",
      "Network 4 out of 26\n",
      "3000/3000 [==============================] - 2s 653us/step\n",
      "Network 5 out of 26\n",
      "3000/3000 [==============================] - 2s 646us/step\n",
      "Network 6 out of 26\n",
      "3000/3000 [==============================] - 2s 645us/step\n",
      "Network 7 out of 26\n",
      "3000/3000 [==============================] - 2s 653us/step\n",
      "Network 8 out of 26\n",
      "3000/3000 [==============================] - 2s 624us/step\n",
      "Network 9 out of 26\n",
      "3000/3000 [==============================] - 2s 620us/step\n",
      "Network 10 out of 26\n",
      "3000/3000 [==============================] - 2s 645us/step\n",
      "Network 11 out of 26\n",
      "3000/3000 [==============================] - 2s 628us/step\n",
      "Network 12 out of 26\n",
      "3000/3000 [==============================] - 2s 628us/step\n",
      "Network 13 out of 26\n",
      "3000/3000 [==============================] - 2s 647us/step\n",
      "Network 14 out of 26\n",
      "3000/3000 [==============================] - 2s 614us/step\n",
      "Network 15 out of 26\n",
      "3000/3000 [==============================] - 2s 642us/step\n",
      "Network 16 out of 26\n",
      "3000/3000 [==============================] - 2s 668us/step\n",
      "Network 17 out of 26\n",
      "3000/3000 [==============================] - 2s 646us/step\n",
      "Network 18 out of 26\n",
      "3000/3000 [==============================] - 2s 613us/step\n",
      "Network 19 out of 26\n",
      "3000/3000 [==============================] - 2s 621us/step\n",
      "Network 20 out of 26\n",
      "3000/3000 [==============================] - 2s 621us/step\n",
      "Network 21 out of 26\n",
      "3000/3000 [==============================] - 2s 611us/step\n",
      "Network 22 out of 26\n",
      "3000/3000 [==============================] - 2s 621us/step\n",
      "Network 23 out of 26\n",
      "3000/3000 [==============================] - 2s 641us/step\n",
      "Network 24 out of 26\n",
      "3000/3000 [==============================] - 2s 620us/step\n",
      "Network 25 out of 26\n",
      "3000/3000 [==============================] - 2s 632us/step\n",
      "Network 26 out of 26\n",
      "3000/3000 [==============================] - 2s 638us/step\n"
     ]
    }
   ],
   "source": [
    "fidelity_arrays = np.zeros([used_channel_combinations.shape[0], test_in.shape[0]])\n",
    "\n",
    "for i in range(used_channel_combinations.shape[0]):\n",
    "    print(\"Network\", i+1, \"out of\", used_channel_combinations.shape[0])\n",
    "    current_channel_comb = used_channel_combinations[i]\n",
    "    fidelity_arrays[i,:] = Evaluate_particular_model(current_channel_comb)\n",
    "\n",
    "fidelity_network_averages = fidelity_arrays.mean(axis=-1)"
   ]
  },
  {
   "cell_type": "markdown",
   "id": "9c6221f5-d064-4b53-8516-75ee838a3c72",
   "metadata": {},
   "source": [
    "fidelity_network_averages contains the averaged test set fidelity for each trained model."
   ]
  },
  {
   "cell_type": "code",
   "execution_count": 11,
   "id": "dfb9d37b-22ee-4bf0-aafe-146e72729ff9",
   "metadata": {},
   "outputs": [],
   "source": [
    "fidelity_subset_means = np.zeros(6)\n",
    "fidelity_subset_stds = np.zeros(6)\n",
    "\n",
    "fidelity_subset_means[0] = fidelity_network_averages[0].mean()                #Note: The average is redundant, as the fidelity_network_averages[0] contains single number\n",
    "fidelity_subset_stds[0] = fidelity_network_averages[0].std()                  #Note: The std can be easily replaced by \"= 0\", as the fidelity_network_averages[0] contains single number\n",
    "#There is only one potential combination including seven active channels, i.e., [0,1,2,3,4,5,6]\n",
    "\n",
    "fidelity_subset_means[1:] = fidelity_network_averages[1:].reshape(5,5).mean(axis=-1)\n",
    "fidelity_subset_stds[1:] = fidelity_network_averages[1:].reshape(5,5).std(axis=-1)\n",
    "#For the rest, there is numerous combinations from which we randomly selected five, f.e., [0, 3], [1, 5], [2, 4], [3, 6], [4, 6] for two active channels"
   ]
  },
  {
   "cell_type": "markdown",
   "id": "80a7586b-6184-4782-9c69-975b8a44e83c",
   "metadata": {},
   "source": [
    "fidelity_subset_means contains the Mean(averaged test set fidelities), where the mean is taken with regards to changing the channel combination. <br>\n",
    "fidelity_subset_stds contains the Standard_deviations(averaged test set fidelities), where the deviation is taken with regards to changing the channel combination."
   ]
  },
  {
   "cell_type": "code",
   "execution_count": 12,
   "id": "ff217808-6522-491b-b2f7-af5ab0ac23c9",
   "metadata": {},
   "outputs": [
    {
     "data": {
      "image/png": "[encoded data removed]",
      "text/plain": [
       "<Figure size 500x650 with 1 Axes>"
      ]
     },
     "metadata": {},
     "output_type": "display_data"
    }
   ],
   "source": [
    "plt.rc('font', size=16)\n",
    "plt.rc('axes', titlesize=16)\n",
    "plt.rc('axes', labelsize=16)\n",
    "plt.rc('xtick', labelsize=16)\n",
    "plt.rc('ytick', labelsize=16)\n",
    "plt.rc('legend', fontsize=16)\n",
    "plt.rc('figure', titlesize=16)\n",
    "\n",
    "plt.figure(figsize=(5,6.5))\n",
    "\n",
    "plt.plot(np.linspace(7,2,6), 1-fidelity_subset_means, color=\"blue\", linestyle=\"--\")\n",
    "plt.scatter(np.linspace(7,2,6), 1-fidelity_subset_means, color=\"blue\")\n",
    "plt.errorbar(np.linspace(7,2,6), 1-fidelity_subset_means, yerr=fidelity_subset_stds, fmt='None', color=\"black\")\n",
    "plt.yscale(\"log\")\n",
    "plt.xlabel(\"Number of detection channels\")\n",
    "plt.ylabel(\"Infidelity\")\n",
    "plt.xticks(np.linspace(7,2,6))\n",
    "\n",
    "plt.show()"
   ]
  },
  {
   "cell_type": "code",
   "execution_count": null,
   "id": "7464638e-a65c-4e97-9b1b-ccfed747ced0",
   "metadata": {},
   "outputs": [],
   "source": []
  }
 ],
 "metadata": {
  "kernelspec": {
   "display_name": "Python 3",
   "language": "python",
   "name": "python3"
  },
  "language_info": {
   "codemirror_mode": {
    "name": "ipython",
    "version": 3
   },
   "file_extension": ".py",
   "mimetype": "text/x-python",
   "name": "python",
   "nbconvert_exporter": "python",
   "pygments_lexer": "ipython3",
   "version": "3.11.3"
  }
 },
 "nbformat": 4,
 "nbformat_minor": 5
}
