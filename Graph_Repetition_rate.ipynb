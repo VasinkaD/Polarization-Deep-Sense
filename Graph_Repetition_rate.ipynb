{
 "cells": [
  {
   "cell_type": "code",
   "execution_count": 1,
   "id": "6a7a8b4f-3050-42fd-a855-570705e87f45",
   "metadata": {},
   "outputs": [],
   "source": [
    "import os\n",
    "os.environ[\"CUDA_VISIBLE_DEVICES\"]=\"0\"\n",
    "#Use \"-1\" for CPU-only devices\n",
    "\n",
    "#If working on GPU enviroment\n",
    "os.environ['TF_FORCE_GPU_ALLOW_GROWTH'] = 'true'\n",
    "#Limit the memory allocated by tensorflow to only the necessary amount\n",
    "\n",
    "os.environ['TF_CPP_MIN_LOG_LEVEL'] = '2'\n",
    "os.environ['PYTHONHASHSEED'] = '2'"
   ]
  },
  {
   "cell_type": "code",
   "execution_count": 2,
   "id": "25fc1b05-79db-429b-82ca-cc5b737a2115",
   "metadata": {},
   "outputs": [
    {
     "name": "stderr",
     "output_type": "stream",
     "text": [
      "/usr/lib/python3.11/site-packages/h5py/__init__.py:36: UserWarning: h5py is running against HDF5 1.14.1 when it was built against 1.14.0, this may cause problems\n",
      "  _warn((\"h5py is running against HDF5 {0} when it was built against {1}, \"\n"
     ]
    },
    {
     "name": "stdout",
     "output_type": "stream",
     "text": [
      "All packages are using the targeted versions.\n"
     ]
    }
   ],
   "source": [
    "from os import listdir\n",
    "from os.path import isfile, join\n",
    "\n",
    "import numpy as np\n",
    "from numpy.random import seed\n",
    "seed(18)\n",
    "\n",
    "import tensorflow as tf\n",
    "from tensorflow.keras.models import load_model\n",
    "from tensorflow.random import set_seed\n",
    "from tensorflow.keras.utils import set_random_seed\n",
    "set_seed(18)\n",
    "set_random_seed(18)\n",
    "\n",
    "import keras\n",
    "\n",
    "import matplotlib.pyplot as plt\n",
    "\n",
    "from Supporting_func_file import *\n",
    "\n",
    "Version_check()"
   ]
  },
  {
   "cell_type": "markdown",
   "id": "daa74fe6-d419-4732-9d68-d2da10a47769",
   "metadata": {},
   "source": [
    "## Preparing the data\n",
    "#### Loading the 30,000 measured samples"
   ]
  },
  {
   "cell_type": "code",
   "execution_count": 3,
   "id": "b8742499-db64-42d1-abe6-1d97724844db",
   "metadata": {},
   "outputs": [
    {
     "data": {
      "text/plain": [
       "['Performance_evaluation_0.1_ms_data.npz',\n",
       " 'Performance_evaluation_0.3_ms_data.npz',\n",
       " 'Performance_evaluation_0.5_ms_data.npz',\n",
       " 'Performance_evaluation_1_ms_data.npz',\n",
       " 'Performance_evaluation_3_ms_data.npz',\n",
       " 'Performance_evaluation_5_ms_data.npz',\n",
       " 'Performance_evaluation_10_ms_data.npz',\n",
       " 'Performance_evaluation_30_ms_data.npz',\n",
       " 'Performance_evaluation_50_ms_data.npz',\n",
       " 'Performance_evaluation_100_ms_data.npz']"
      ]
     },
     "execution_count": 3,
     "metadata": {},
     "output_type": "execute_result"
    }
   ],
   "source": [
    "#Get the file path to datasets for each acquisition time\n",
    "main_path = \"Data_sets/Performance_evaluation/\"\n",
    "\n",
    "file_paths = [f for f in listdir(main_path) if isfile(join(main_path, f)) and f.endswith(\".npz\")]\n",
    "\n",
    "def key_sort(name_):\n",
    "    return float(name_[23:-12])\n",
    "file_paths.sort(key=key_sort)\n",
    "file_paths"
   ]
  },
  {
   "cell_type": "markdown",
   "id": "4b7da431-bc64-49d9-89a8-8cbe731fd6a0",
   "metadata": {},
   "source": [
    "#### Generating the mixed state samples for each acquisition time"
   ]
  },
  {
   "cell_type": "code",
   "execution_count": 4,
   "id": "6436c7d9-18c4-459d-bf6b-e439ec96267b",
   "metadata": {},
   "outputs": [],
   "source": [
    "number_of_repetitions = 20\n",
    "#The created dataset will consists of (number_of_repetitions * 30000) generated mixed data covering the whole Bloch sphere\n",
    "\n",
    "radial_positions = Radius_dist((number_of_repetitions, 30000))\n",
    "#Supporting variable for generating mixed states\n",
    "#Same across acquisition times to generate the same states"
   ]
  },
  {
   "cell_type": "markdown",
   "id": "7c9184c2-71b7-47b9-8380-00e9dbacd2b3",
   "metadata": {},
   "source": [
    "Generating the mixed data will be done in the same fashion as in the \"Main_results\" notebook, i.e., using the \"Generate_mixed_dataset\" function stored in \"Supporting_func_file\" file."
   ]
  },
  {
   "cell_type": "markdown",
   "id": "20dabe6f-b864-41fd-8f3a-21a4e4f74336",
   "metadata": {},
   "source": [
    "#### Pre-processing the data for the neural network"
   ]
  },
  {
   "cell_type": "code",
   "execution_count": 5,
   "id": "ee3caa34-0158-4095-9335-e0caeb731f50",
   "metadata": {},
   "outputs": [],
   "source": [
    "def Extract_test_set(number_of_repetitions_, data_counts_, data_rhos_):\n",
    "    #first_borderline = (number_of_repetitions_+1) * 16000\n",
    "    second_borderline = (number_of_repetitions_+1) * 24000\n",
    "    \n",
    "    data_in = Probability_norm(data_counts_)\n",
    "    data_out = Tau_to_Flat(np.linalg.cholesky(data_rhos_))\n",
    "    \n",
    "    seed(18)\n",
    "    np.random.shuffle(data_in)\n",
    "    seed(18)\n",
    "    np.random.shuffle(data_out)\n",
    "    \n",
    "    #train_in = data_in[:first_borderline]\n",
    "    #train_out = data_out[:first_borderline]\n",
    "    \n",
    "    #val_in = data_in[first_borderline:second_borderline]\n",
    "    #val_out = data_out[first_borderline:second_borderline]\n",
    "    \n",
    "    test_in = data_in[second_borderline:]\n",
    "    test_out = data_out[second_borderline:]\n",
    "    \n",
    "    return test_in, test_out"
   ]
  },
  {
   "cell_type": "markdown",
   "id": "60b73168-0d46-4e92-9f23-f8fbc8555d4f",
   "metadata": {},
   "source": [
    "Keeping only the test set as we are evaluting a already-trained network."
   ]
  },
  {
   "cell_type": "markdown",
   "id": "5d133905-76ef-4cc6-8c44-1bafebb1fb20",
   "metadata": {},
   "source": [
    "#### Evaluating the model on a test set"
   ]
  },
  {
   "cell_type": "code",
   "execution_count": 6,
   "id": "650cf5b5-1ace-4cbf-82f1-b157ff79f816",
   "metadata": {},
   "outputs": [],
   "source": [
    "def Evaluate_model(model_, test_in_, test_out_):\n",
    "    pred_rho = Flat_to_Density(model.predict(test_in_))\n",
    "    true_rho = Flat_to_Density(test_out_)\n",
    "    \n",
    "    fidelity_array = Fidelity(true_rho, pred_rho)\n",
    "    \n",
    "    return fidelity_array"
   ]
  },
  {
   "cell_type": "code",
   "execution_count": 7,
   "id": "6ce5521e-ea0e-4dfb-8abc-04d6fa5abbf8",
   "metadata": {
    "scrolled": true
   },
   "outputs": [
    {
     "name": "stdout",
     "output_type": "stream",
     "text": [
      "Model: \"sequential\"\n",
      "_________________________________________________________________\n",
      " Layer (type)                Output Shape              Param #   \n",
      "=================================================================\n",
      " dense (Dense)               (None, 250)               2000      \n",
      "                                                                 \n",
      " dropout (Dropout)           (None, 250)               0         \n",
      "                                                                 \n",
      " batch_normalization (BatchN  (None, 250)              1000      \n",
      " ormalization)                                                   \n",
      "                                                                 \n",
      " dense_1 (Dense)             (None, 250)               62750     \n",
      "                                                                 \n",
      " dropout_1 (Dropout)         (None, 250)               0         \n",
      "                                                                 \n",
      " batch_normalization_1 (Batc  (None, 250)              1000      \n",
      " hNormalization)                                                 \n",
      "                                                                 \n",
      " dense_2 (Dense)             (None, 250)               62750     \n",
      "                                                                 \n",
      " dropout_2 (Dropout)         (None, 250)               0         \n",
      "                                                                 \n",
      " batch_normalization_2 (Batc  (None, 250)              1000      \n",
      " hNormalization)                                                 \n",
      "                                                                 \n",
      " dense_3 (Dense)             (None, 250)               62750     \n",
      "                                                                 \n",
      " dropout_3 (Dropout)         (None, 250)               0         \n",
      "                                                                 \n",
      " batch_normalization_3 (Batc  (None, 250)              1000      \n",
      " hNormalization)                                                 \n",
      "                                                                 \n",
      " dense_4 (Dense)             (None, 4)                 1004      \n",
      "                                                                 \n",
      "=================================================================\n",
      "Total params: 195,254\n",
      "Trainable params: 193,254\n",
      "Non-trainable params: 2,000\n",
      "_________________________________________________________________\n"
     ]
    }
   ],
   "source": [
    "model = load_model(\"Trained_models/Main_results_model.h5\", \n",
    "                   custom_objects={\"fidelity_metric\": fidelity_metric})\n",
    "\n",
    "model.summary()"
   ]
  },
  {
   "cell_type": "markdown",
   "id": "71804db5-21c2-4303-bcd2-4c0d72021c6d",
   "metadata": {},
   "source": [
    "We are interested in the fidelity metric between predicted and targeted polarization states."
   ]
  },
  {
   "cell_type": "markdown",
   "id": "0f38fb75-1436-4750-95b8-1160f80a09cd",
   "metadata": {},
   "source": [
    "#### Combining all the previous steps to get test set fidelities for data in filepath"
   ]
  },
  {
   "cell_type": "code",
   "execution_count": 8,
   "id": "df9e3bbf-20de-4239-81b9-21ce31b61156",
   "metadata": {},
   "outputs": [],
   "source": [
    "def Analyze_dataset(data_filepath_, model_, number_of_repetitions_, radial_positions_):\n",
    "    fiber_bundle_counts, input_states_rho = Load_data_file(data_filepath_)\n",
    "    \n",
    "    data_rhos, data_counts = Generate_mixed_dataset(input_states_rho, fiber_bundle_counts, radial_positions_)\n",
    "    \n",
    "    test_in, test_out = Extract_test_set(number_of_repetitions_, data_counts, data_rhos)\n",
    "    \n",
    "    fidelity_array = Evaluate_model(model, test_in, test_out)\n",
    "    \n",
    "    fidelity_mean = np.mean(fidelity_array)\n",
    "    \n",
    "    fidelity_10_quantile = np.quantile(fidelity_array, 0.10)\n",
    "    fidelity_90_quantile = np.quantile(fidelity_array, 0.90)\n",
    "    \n",
    "    return fidelity_array, fidelity_mean, fidelity_10_quantile, fidelity_90_quantile"
   ]
  },
  {
   "cell_type": "code",
   "execution_count": 9,
   "id": "594c7355-56e5-4a4f-a757-6068a47f0774",
   "metadata": {},
   "outputs": [
    {
     "name": "stdout",
     "output_type": "stream",
     "text": [
      "3000/3000 [==============================] - 5s 1ms/step\n",
      "3000/3000 [==============================] - 3s 945us/step\n",
      "3000/3000 [==============================] - 2s 827us/step\n",
      "3000/3000 [==============================] - 2s 730us/step\n",
      "3000/3000 [==============================] - 2s 728us/step\n",
      "3000/3000 [==============================] - 2s 665us/step\n",
      "3000/3000 [==============================] - 2s 657us/step\n",
      "3000/3000 [==============================] - 2s 647us/step\n",
      "3000/3000 [==============================] - 2s 649us/step\n",
      "3000/3000 [==============================] - 2s 665us/step\n"
     ]
    }
   ],
   "source": [
    "#Getting the fidelities for each acqusition time data (= 1/repetition rate)\n",
    "#This step may take a couple minutes depending on your hardware\n",
    "acq_fid_means = np.zeros([len(file_paths)])\n",
    "acq_fid_q10s = np.zeros([len(file_paths)])\n",
    "acq_fid_q90s = np.zeros([len(file_paths)])\n",
    "\n",
    "for i, current_path in zip(range(len(file_paths)), file_paths):\n",
    "    _, acq_fid_means[i], acq_fid_q10s[i], acq_fid_q90s[i] = Analyze_dataset(main_path + current_path, model, number_of_repetitions, radial_positions)"
   ]
  },
  {
   "cell_type": "markdown",
   "id": "98847ec9-12c4-4538-9b84-ac198e68f7b6",
   "metadata": {},
   "source": [
    "#### Visualizing the results"
   ]
  },
  {
   "cell_type": "code",
   "execution_count": 10,
   "id": "71a262d8-15ed-4031-9120-dfa754a81249",
   "metadata": {},
   "outputs": [],
   "source": [
    "acq_times = np.array([float(name[23:-12]) for name in file_paths])\n",
    "rep_rates = 1000 / acq_times\n",
    "\n",
    "acq_infid_means = 1-acq_fid_means\n",
    "acq_infid_q10s = 1-acq_fid_q10s\n",
    "acq_infid_q90s = 1-acq_fid_q90s\n",
    "\n",
    "_, data_counts = Generate_mixed_dataset(Load_data_file(main_path + \"Performance_evaluation_50_ms_data.npz\")[1], Load_data_file(main_path + \"Performance_evaluation_50_ms_data.npz\")[0], radial_positions)\n",
    "rescaling_counts = int(data_counts.sum(axis=-1).mean().round())"
   ]
  },
  {
   "cell_type": "code",
   "execution_count": 11,
   "id": "81210c7e-7023-4f33-a0d8-b09d6f9297cc",
   "metadata": {},
   "outputs": [
    {
     "name": "stderr",
     "output_type": "stream",
     "text": [
      "/tmp/ipykernel_4105501/3788975559.py:26: RuntimeWarning: divide by zero encountered in divide\n",
      "  reps = 1000 / acq                                 #number of repetitions per second\n"
     ]
    },
    {
     "data": {
      "image/png": "[encoded data removed]",
      "text/plain": [
       "<Figure size 500x650 with 1 Axes>"
      ]
     },
     "metadata": {},
     "output_type": "display_data"
    }
   ],
   "source": [
    "plt.rc('font', size=16)\n",
    "plt.rc('axes', titlesize=16)\n",
    "plt.rc('axes', labelsize=16)\n",
    "plt.rc('xtick', labelsize=16)\n",
    "plt.rc('ytick', labelsize=16)\n",
    "plt.rc('legend', fontsize=16)\n",
    "plt.rc('figure', titlesize=16)\n",
    "\n",
    "fig, ax = plt.subplots(constrained_layout=True)\n",
    "fig.set_size_inches(5, 6.5)\n",
    "\n",
    "ax.loglog(rep_rates, acq_infid_means, color=\"blue\", linestyle=\"--\")\n",
    "ax.fill_between(rep_rates, acq_infid_q90s, acq_infid_q10s, color=\"blue\", alpha=0.3)\n",
    "ax.scatter(rep_rates, acq_infid_means, color=\"blue\")\n",
    "\n",
    "ax.set_xlabel(\"Repetition rate [$s^{-1}$]\")\n",
    "ax.set_ylabel(\"Infidelity\")\n",
    "\n",
    "def forward(reps_):\n",
    "    acq = 1000 / reps_                                #acq time in ms\n",
    "    counts = acq * (rescaling_counts / 50)            #acq time in ms * counts per ms = counts per acq time\n",
    "    return counts\n",
    "\n",
    "def inverse(counts_):\n",
    "    acq = counts_ / (rescaling_counts / 50)           #acq time in ms\n",
    "    reps = 1000 / acq                                 #number of repetitions per second\n",
    "    return reps\n",
    "\n",
    "secax = ax.secondary_xaxis('top', functions=(forward, inverse))\n",
    "secax.set_xlabel(\"Detected photons\")\n",
    "\n",
    "plt.ylim(bottom=4*10**(-4))\n",
    "plt.show()"
   ]
  },
  {
   "cell_type": "code",
   "execution_count": null,
   "id": "87fff0ef-afb5-45d1-aa47-1c47b156154a",
   "metadata": {},
   "outputs": [],
   "source": []
  }
 ],
 "metadata": {
  "kernelspec": {
   "display_name": "Python 3",
   "language": "python",
   "name": "python3"
  },
  "language_info": {
   "codemirror_mode": {
    "name": "ipython",
    "version": 3
   },
   "file_extension": ".py",
   "mimetype": "text/x-python",
   "name": "python",
   "nbconvert_exporter": "python",
   "pygments_lexer": "ipython3",
   "version": "3.11.3"
  }
 },
 "nbformat": 4,
 "nbformat_minor": 5
}
